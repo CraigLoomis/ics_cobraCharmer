{
 "cells": [
  {
   "cell_type": "code",
   "execution_count": 9,
   "metadata": {
    "ExecuteTime": {
     "end_time": "2018-05-18T01:47:07.546027Z",
     "start_time": "2018-05-18T01:47:07.528575Z"
    }
   },
   "outputs": [],
   "source": [
    "from importlib import reload\n",
    "\n",
    "import numpy as np\n",
    "\n",
    "from ics.cobraControl import ethernet\n",
    "from ics.cobraControl import func, cmds\n",
    "from ics.cobraControl import convert\n",
    "\n",
    "\n",
    "class PFI(object):\n",
    "    CW = 1\n",
    "    CCW = -1\n",
    "    DISABLE = 0\n",
    "    \n",
    "    nCobrasPerModule = 57\n",
    "    nModules = 42\n",
    "    \n",
    "    def __init__(self, fpgaHost='localhost', doConnect=True, doLoadModel=True):\n",
    "        self.fpgaHost = fpgaHost\n",
    "        if doConnect:\n",
    "            self.connect()\n",
    "        if doLoadModel:\n",
    "            self.loadModel()\n",
    "        \n",
    "    def connect(self):\n",
    "        ethernet.sock.connect(self.fpgaHost, 4001)\n",
    "        \n",
    "    def disconnect(self):\n",
    "        ethernet.sock.close()\n",
    "        ethernet.sock = ethernet.Sock()\n",
    "        \n",
    "    def loadModel(self, filename=None):\n",
    "        import ics.cobraOps.CobrasCalibrationProduct as cobraModel\n",
    "        reload(cobraModel)\n",
    "\n",
    "        if filename is None:\n",
    "            filename = \"/Users/cloomis/Sumire/PFS/git/ics_cobraOps/python/ics/cobraOps/usedXMLFile.xml\"\n",
    "        \n",
    "        self.calibModel = cobraModel.CobrasCalibrationProduct(filename)\n",
    "        \n",
    "    def _freqToPeriod(self, freq):\n",
    "        \"\"\" Convert frequency to 60ns ticks \"\"\"        \n",
    "        return int(round(16e3 / (freq)))\n",
    "\n",
    "    def _periodToFreq(self, freq):\n",
    "        \"\"\" Convert 60ns ticks to a frequency \"\"\"\n",
    "        return  (16e3 / per) if (per>=1) else 0\n",
    "\n",
    "    def _mapCobraIndex(self, cobra):\n",
    "        \"\"\" Convert our module + cobra to global cobra index for the calibration product. \"\"\"\n",
    "        \n",
    "        return ((cobra.module - 1)*self.nCobrasPerModule + cobra.cobraNum-1)\n",
    "    \n",
    "    def reset(self, sectors=0x3f):\n",
    "        err = func.RST(sectors)\n",
    "        \n",
    "    def powerCycle(self, sectors=0x3f):\n",
    "        err = func.POW(sectors)\n",
    "\n",
    "    def setFreq(self, cobras):\n",
    "        for c in cobras:\n",
    "            cobraIdx = self._mapCobraIndex(c)\n",
    "            thetaPer = self._freqToPeriod(self.calibModel.motorFreq1[cobraIdx]/1000)\n",
    "            phiPer = self._freqToPeriod(self.calibModel.motorFreq2[cobraIdx]/1000)\n",
    "\n",
    "            # print(f'set {c.board},{c.cobra} to {thetaPer},{phiPer} {self.calibModel.motorFreq1[c.cobra]}')\n",
    "            c.p = func.SetParams(p0=thetaPer, p1=phiPer, en=(True, True))\n",
    "        err = func.SET(cobras)\n",
    "        \n",
    "    def moveAllSteps(self, cobras, steps, dirs):\n",
    "        allSteps = [steps]*len(cobras)\n",
    "        allDirs = [dirs]*len(cobras)\n",
    "        \n",
    "        self.moveSteps(cobras, allSteps, allDirs)\n",
    "        \n",
    "    def moveSteps(self, cobras, steps, dirs):\n",
    "        \n",
    "        if len(cobras) != len(steps):\n",
    "            raise RuntimeError(\"number of steps must match number of cobras\")\n",
    "        if len(cobras) != len(dirs):\n",
    "            raise RuntimeError(\"number of directions must match number of cobras\")\n",
    "\n",
    "        model = self.calibModel\n",
    "        \n",
    "        for c_i, c in enumerate(cobras):\n",
    "            steps1 = steps[c_i]\n",
    "            dirs1 = dirs[c_i]\n",
    "            en = (steps1[0] != 0, steps1[1] != 0)\n",
    "            cobraId = self._mapCobraIndex(c)\n",
    "            \n",
    "            if dirs1[0] == 'cw':\n",
    "                ontime1 = model.motorOntimeFwd1[cobraId]\n",
    "                offtime1 = model.motorOfftimeFwd1[cobraId]\n",
    "            elif dirs1[0] == 'ccw':\n",
    "                ontime1 = model.motorOntimeRev1[cobraId]\n",
    "                offtime1 = model.motorOfftimeRev1[cobraId]\n",
    "            else:\n",
    "                raise ValueError(f'invalid direction: {dirs1[0]}')\n",
    "                \n",
    "            if dirs1[1] == 'cw':\n",
    "                ontime2 = model.motorOntimeFwd2[cobraId]\n",
    "                offtime2 = model.motorOfftimeFwd2[cobraId]\n",
    "            elif dirs1[1] == 'ccw':\n",
    "                ontime2 = model.motorOntimeRev2[cobraId]\n",
    "                offtime2 = model.motorOfftimeRev2[cobraId]\n",
    "            else:\n",
    "                raise ValueError(f'invalid direction: {dirs1[1]}')\n",
    "                \n",
    "            c.p = func.RunParams(pu=(int(1000*ontime1), int(1000*ontime2)),\n",
    "                                 st=(steps1),\n",
    "                                 sl=(int(1000*offtime1), int(1000*offtime2)),\n",
    "                                 en=en,\n",
    "                                 dir=dirs1)\n",
    "        err = func.RUN(cobras)\n",
    "        \n",
    "    @classmethod\n",
    "    def allocateAllCobras(cls):\n",
    "        return allocateCobraRange(range(1,cls.nModules))\n",
    "\n",
    "    @classmethod\n",
    "    def allocateCobraRange(cls, modules, cobraNums=None):\n",
    "        \"\"\" Utility to allocate swaths of cobras:\n",
    "    \n",
    "        Args:\n",
    "          modules (int array-like): a list of 1-indexed boards to allocate from.\n",
    "          cobras  (int array-like): a list of 1-indexed cobras to allocate from.\n",
    "\n",
    "        Return:\n",
    "          cobras\n",
    "        \"\"\"\n",
    "        cobras = []\n",
    "    \n",
    "        if np.isscalar(modules):\n",
    "            modules = [modules]\n",
    "        for m in modules:\n",
    "            if m == 0:\n",
    "                raise IndexError('module numbers are 1-indexed, grrr.')\n",
    "            if cobraNums is None:\n",
    "                _cobraNums = range(1,cls.nCobrasPerModule)\n",
    "            else:\n",
    "                _cobraNums = cobraNums\n",
    "            \n",
    "            for c in _cobraNums:\n",
    "                if c == 0:\n",
    "                    raise IndexError('cobra numbers are 1-indexed, grrr.')\n",
    "\n",
    "                cobras.append(func.Cobra(m, c))\n",
    "        \n",
    "        return cobras\n",
    "\n",
    "    @classmethod\n",
    "    def allocateCobraList(cls, cobraIds):\n",
    "        cobras = []\n",
    "        for mc in cobraIds:\n",
    "            m, c = mc\n",
    "            if m == 0:\n",
    "                raise IndexError('module numbers are 1-indexed, grrr.')\n",
    "            if c == 0:\n",
    "                raise IndexError('cobra numbers are 1-indexed, grrr.')\n",
    "\n",
    "            cobras.append(func.Cobra(m, c))\n",
    "        \n",
    "        return cobras\n",
    "\n",
    "def retractPhi(pfi, cobras, nsteps=100):\n",
    "    steps = [(0,nsteps)]*len(cobras)\n",
    "    dirs = [('ccw','ccw')]*len(cobras)\n",
    "    pfi.moveSteps(cobras, steps, dirs)\n",
    "    \n",
    "def testRuns(cobras):\n",
    "    for c in cobras:\n",
    "        c.p = func.RunParams(pu=(70,70),\n",
    "                             st=(10,10),\n",
    "                             en=(True, True),\n",
    "                             dir=('cw', 'cw'))"
   ]
  },
  {
   "cell_type": "code",
   "execution_count": 10,
   "metadata": {
    "ExecuteTime": {
     "end_time": "2018-05-18T01:47:08.069607Z",
     "start_time": "2018-05-18T01:47:08.064671Z"
    }
   },
   "outputs": [],
   "source": [
    "testCobras = \"moduleGroups\"\n",
    "\n",
    "if testCobras == \"allCobras\":\n",
    "    cobras = PFI.allocateCobraRange(range(1,43))\n",
    "elif testCobras == \"oneModule\":\n",
    "    cobras = PFI.allocateCobraRange(range(1,2))\n",
    "elif testCobras == \"oneCobra\":\n",
    "    cobras = PFI.allocateCobraList([(1,1)])    \n",
    "elif testCobras == \"moduleGroups\":\n",
    "    moduleCobras = {}\n",
    "    for group in 1,2,3:\n",
    "        cm = list(range(group,58,3))\n",
    "        mod = list([1]*len(cm))\n",
    "    \n",
    "        moduleCobras[group] = PFI.allocateCobraList(list(zip(mod,cm)))\n",
    "    cobras = moduleCobras[1]\n",
    "else:\n",
    "    raise RuntimeError()"
   ]
  },
  {
   "cell_type": "code",
   "execution_count": 11,
   "metadata": {
    "ExecuteTime": {
     "end_time": "2018-05-18T01:47:08.588566Z",
     "start_time": "2018-05-18T01:47:08.584693Z"
    }
   },
   "outputs": [
    {
     "name": "stdout",
     "output_type": "stream",
     "text": [
      "['1,1', '1,4', '1,7', '1,10', '1,13', '1,16', '1,19', '1,22', '1,25', '1,28', '1,31', '1,34', '1,37', '1,40', '1,43', '1,46', '1,49', '1,52', '1,55']\n"
     ]
    }
   ],
   "source": [
    "print([f\"{c.module},{c.cobraNum}\" for c in cobras])"
   ]
  },
  {
   "cell_type": "code",
   "execution_count": 12,
   "metadata": {
    "ExecuteTime": {
     "end_time": "2018-05-18T01:47:09.111772Z",
     "start_time": "2018-05-18T01:47:09.056576Z"
    }
   },
   "outputs": [],
   "source": [
    "pfi = PFI()"
   ]
  },
  {
   "cell_type": "code",
   "execution_count": 13,
   "metadata": {
    "ExecuteTime": {
     "end_time": "2018-05-18T01:47:14.179942Z",
     "start_time": "2018-05-18T01:47:14.175421Z"
    }
   },
   "outputs": [],
   "source": [
    "pfi.setFreq(moduleCobras[1])"
   ]
  },
  {
   "cell_type": "code",
   "execution_count": 14,
   "metadata": {
    "ExecuteTime": {
     "end_time": "2018-05-18T01:47:14.772143Z",
     "start_time": "2018-05-18T01:47:14.765820Z"
    }
   },
   "outputs": [
    {
     "name": "stdout",
     "output_type": "stream",
     "text": [
      "Automatic pdb calling has been turned ON\n",
      "Automatic pdb calling has been turned OFF\n"
     ]
    }
   ],
   "source": [
    "%pdb on\n",
    "retractPhi(pfi, cobras)\n",
    "%pdb off"
   ]
  },
  {
   "cell_type": "code",
   "execution_count": 15,
   "metadata": {
    "ExecuteTime": {
     "end_time": "2018-05-18T01:47:15.690638Z",
     "start_time": "2018-05-18T01:47:15.685451Z"
    }
   },
   "outputs": [],
   "source": [
    "pfi.moveAllSteps(cobras, (5,5), dirs=('cw','cw'))"
   ]
  },
  {
   "cell_type": "code",
   "execution_count": 17,
   "metadata": {
    "ExecuteTime": {
     "end_time": "2018-05-18T01:47:26.633347Z",
     "start_time": "2018-05-18T01:47:26.630459Z"
    }
   },
   "outputs": [],
   "source": [
    "pfi.powerCycle()"
   ]
  },
  {
   "cell_type": "code",
   "execution_count": 12,
   "metadata": {
    "ExecuteTime": {
     "end_time": "2018-05-18T01:45:04.925453Z",
     "start_time": "2018-05-18T01:45:04.916173Z"
    }
   },
   "outputs": [
    {
     "name": "stdout",
     "output_type": "stream",
     "text": [
      "[ 63241.  63241.  63745.  63492.  63241.  63492.  62500.  63492.  64000.\n",
      "  63492.  62992.  63241.  62992.  63492.  64000.  63492.  63492.  62992.\n",
      "  63241.  64000.  63745.  62992.  63492.  64000.  63241.  62500.  63241.\n",
      "  63241.  63492.  63492.  63745.  63745.  63745.  63241.  63241.  64000.\n",
      "  62745.  64000.  62745.  62992.  63492.  62500.  63241.  62256.  64000.\n",
      "  63492.  64000.  62992.  63492.  64516.  64000.  64257.  64516.  63745.\n",
      "  64000.  64777.  63492.] [ 108108.  104575.  103896.  104575.  105263.  105960.  105960.  105263.\n",
      "  104575.  105960.  107382.  105263.  105960.  105263.  105960.  103896.\n",
      "  105263.  106666.  105263.  105960.  105960.  104575.  104575.  105263.\n",
      "  105960.  106666.  104575.  108108.  105960.  105263.  108843.  106666.\n",
      "  105263.  105263.  106666.  105263.  105960.  105263.  104575.  106666.\n",
      "  105960.  105263.  105960.  104575.  105960.  105263.  105960.  105263.\n",
      "  106666.  106666.  105960.  105960.  104575.  104575.  103896.  107382.\n",
      "  103896.]\n",
      "[ 0.04572   0.035657  0.045208  0.034212  0.056261  0.035246  0.038806\n",
      "  0.04052   0.036665  0.043863  0.034893  0.038601  0.045718  0.040192\n",
      "  0.032984  0.044884  0.060648  0.030677  0.045     0.043477  0.044371\n",
      "  0.039775  0.025281  0.037573  0.026814  0.029857  0.037316  0.033515\n",
      "  0.055     0.036066  0.042911  0.030178  0.05      0.030303  0.033397\n",
      "  0.035871  0.029873  0.035119  0.031576  0.03845   0.028927  0.029009\n",
      "  0.032161  0.04      0.040494  0.0284    0.039198  0.033038  0.048\n",
      "  0.038619  0.032169  0.043978  0.033958  0.037041  0.042403  0.042559\n",
      "  0.040381] [ 0.036611  0.021366  0.021555  0.019963  0.038833  0.026347  0.02714\n",
      "  0.03098   0.021781  0.028458  0.031342  0.033744  0.031139  0.023686\n",
      "  0.036875  0.037611  0.038595  0.03      0.02802   0.021953  0.035\n",
      "  0.021292  0.038168  0.029417  0.028308  0.04      0.022151  0.0277\n",
      "  0.022297  0.02113   0.030902  0.026341  0.03      0.018485  0.028437\n",
      "  0.017803  0.027939  0.019489  0.034225  0.03      0.020884  0.02599\n",
      "  0.027661  0.02114   0.032926  0.02      0.029638  0.022913  0.03\n",
      "  0.018576  0.019898  0.02      0.02899   0.025337  0.026295  0.022561\n",
      "  0.026991]\n"
     ]
    }
   ],
   "source": [
    "print(pfi.calibModel.motorFreq1, pfi.calibModel.motorFreq2)\n",
    "print(pfi.calibModel.motorOntimeFwd1, pfi.calibModel.motorOntimeFwd2)"
   ]
  },
  {
   "cell_type": "code",
   "execution_count": 13,
   "metadata": {
    "ExecuteTime": {
     "end_time": "2018-05-18T01:45:12.794755Z",
     "start_time": "2018-05-18T01:45:12.669141Z"
    }
   },
   "outputs": [
    {
     "ename": "NameError",
     "evalue": "name 'sec_rst' is not defined",
     "output_type": "error",
     "traceback": [
      "\u001b[0;31m---------------------------------------------------------------------------\u001b[0m",
      "\u001b[0;31mNameError\u001b[0m                                 Traceback (most recent call last)",
      "\u001b[0;32m<ipython-input-13-cd6456247727>\u001b[0m in \u001b[0;36m<module>\u001b[0;34m()\u001b[0m\n\u001b[0;32m----> 1\u001b[0;31m \u001b[0mpfi\u001b[0m\u001b[0;34m.\u001b[0m\u001b[0mreset\u001b[0m\u001b[0;34m(\u001b[0m\u001b[0;34m)\u001b[0m\u001b[0;34m\u001b[0m\u001b[0m\n\u001b[0m",
      "\u001b[0;32m<ipython-input-9-f953c3b895c5>\u001b[0m in \u001b[0;36mreset\u001b[0;34m(self, sectors)\u001b[0m\n\u001b[1;32m     53\u001b[0m \u001b[0;34m\u001b[0m\u001b[0m\n\u001b[1;32m     54\u001b[0m     \u001b[0;32mdef\u001b[0m \u001b[0mreset\u001b[0m\u001b[0;34m(\u001b[0m\u001b[0mself\u001b[0m\u001b[0;34m,\u001b[0m \u001b[0msectors\u001b[0m\u001b[0;34m=\u001b[0m\u001b[0;36m0x3f\u001b[0m\u001b[0;34m)\u001b[0m\u001b[0;34m:\u001b[0m\u001b[0;34m\u001b[0m\u001b[0m\n\u001b[0;32m---> 55\u001b[0;31m         \u001b[0merr\u001b[0m \u001b[0;34m=\u001b[0m \u001b[0mfunc\u001b[0m\u001b[0;34m.\u001b[0m\u001b[0mRST\u001b[0m\u001b[0;34m(\u001b[0m\u001b[0msectors\u001b[0m\u001b[0;34m)\u001b[0m\u001b[0;34m\u001b[0m\u001b[0m\n\u001b[0m\u001b[1;32m     56\u001b[0m \u001b[0;34m\u001b[0m\u001b[0m\n\u001b[1;32m     57\u001b[0m     \u001b[0;32mdef\u001b[0m \u001b[0mpowerCycle\u001b[0m\u001b[0;34m(\u001b[0m\u001b[0mself\u001b[0m\u001b[0;34m,\u001b[0m \u001b[0msectors\u001b[0m\u001b[0;34m=\u001b[0m\u001b[0;36m0x3f\u001b[0m\u001b[0;34m)\u001b[0m\u001b[0;34m:\u001b[0m\u001b[0;34m\u001b[0m\u001b[0m\n",
      "\u001b[0;32m~/Sumire/PFS/git/ics_cobraControl/python/ics/cobraControl/func.py\u001b[0m in \u001b[0;36mRST\u001b[0;34m(sectors)\u001b[0m\n\u001b[1;32m    267\u001b[0m     \u001b[0mmedium_log\u001b[0m\u001b[0;34m.\u001b[0m\u001b[0mlog\u001b[0m\u001b[0;34m(\u001b[0m\u001b[0;34m\"Sectors Reseting: %s\"\u001b[0m \u001b[0;34m%\u001b[0m\u001b[0msectors_reseting\u001b[0m\u001b[0;34m)\u001b[0m\u001b[0;34m\u001b[0m\u001b[0m\n\u001b[1;32m    268\u001b[0m \u001b[0;34m\u001b[0m\u001b[0m\n\u001b[0;32m--> 269\u001b[0;31m     \u001b[0mcmd\u001b[0m \u001b[0;34m=\u001b[0m \u001b[0mCMD_pow\u001b[0m\u001b[0;34m(\u001b[0m\u001b[0;36m255\u001b[0m\u001b[0;34m,\u001b[0m \u001b[0msec_rst\u001b[0m\u001b[0;34m)\u001b[0m\u001b[0;34m\u001b[0m\u001b[0m\n\u001b[0m\u001b[1;32m    270\u001b[0m     \u001b[0msock\u001b[0m\u001b[0;34m.\u001b[0m\u001b[0msend\u001b[0m\u001b[0;34m(\u001b[0m\u001b[0mcmd\u001b[0m\u001b[0;34m,\u001b[0m \u001b[0meth_hex_logger\u001b[0m\u001b[0;34m,\u001b[0m \u001b[0;34m'h'\u001b[0m\u001b[0;34m)\u001b[0m\u001b[0;34m\u001b[0m\u001b[0m\n\u001b[1;32m    271\u001b[0m     \u001b[0mresp\u001b[0m \u001b[0;34m=\u001b[0m \u001b[0msock\u001b[0m\u001b[0;34m.\u001b[0m\u001b[0mrecv\u001b[0m\u001b[0;34m(\u001b[0m\u001b[0mTLM_LEN\u001b[0m\u001b[0;34m,\u001b[0m \u001b[0meth_hex_logger\u001b[0m\u001b[0;34m,\u001b[0m \u001b[0;34m'h'\u001b[0m\u001b[0;34m)\u001b[0m\u001b[0;34m\u001b[0m\u001b[0m\n",
      "\u001b[0;31mNameError\u001b[0m: name 'sec_rst' is not defined"
     ]
    }
   ],
   "source": [
    "pfi.reset()"
   ]
  },
  {
   "cell_type": "code",
   "execution_count": null,
   "metadata": {
    "collapsed": true
   },
   "outputs": [],
   "source": []
  }
 ],
 "metadata": {
  "kernelspec": {
   "display_name": "Python 3",
   "language": "python",
   "name": "python3"
  },
  "language_info": {
   "codemirror_mode": {
    "name": "ipython",
    "version": 3
   },
   "file_extension": ".py",
   "mimetype": "text/x-python",
   "name": "python",
   "nbconvert_exporter": "python",
   "pygments_lexer": "ipython3",
   "version": "3.6.3"
  },
  "toc": {
   "nav_menu": {},
   "number_sections": true,
   "sideBar": true,
   "skip_h1_title": false,
   "title_cell": "Table of Contents",
   "title_sidebar": "Contents",
   "toc_cell": false,
   "toc_position": {},
   "toc_section_display": true,
   "toc_window_display": false
  }
 },
 "nbformat": 4,
 "nbformat_minor": 2
}
