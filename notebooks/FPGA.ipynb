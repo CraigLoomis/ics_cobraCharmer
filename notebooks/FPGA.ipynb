{
 "cells": [
  {
   "cell_type": "code",
   "execution_count": 173,
   "metadata": {
    "ExecuteTime": {
     "end_time": "2018-05-18T07:16:15.548159Z",
     "start_time": "2018-05-18T07:16:15.524187Z"
    }
   },
   "outputs": [],
   "source": [
    "from importlib import reload\n",
    "\n",
    "import numpy as np\n",
    "\n",
    "from ics.cobraControl import ethernet\n",
    "from ics.cobraControl import func, cmds\n",
    "from ics.cobraControl import convert\n",
    "\n",
    "\n",
    "class PFI(object):\n",
    "    CW = 1\n",
    "    CCW = -1\n",
    "    DISABLE = 0\n",
    "    \n",
    "    nCobrasPerModule = 57\n",
    "    nModules = 42\n",
    "    \n",
    "    def __init__(self, fpgaHost='localhost', doConnect=True, doLoadModel=True):\n",
    "        self.fpgaHost = fpgaHost\n",
    "        if doConnect:\n",
    "            self.connect()\n",
    "        if doLoadModel:\n",
    "            self.loadModel()\n",
    "        \n",
    "    def connect(self):\n",
    "        ethernet.sock.connect(self.fpgaHost, 4001)\n",
    "        \n",
    "    def disconnect(self):\n",
    "        ethernet.sock.close()\n",
    "        ethernet.sock = ethernet.Sock()\n",
    "        \n",
    "    def loadModel(self, filename=None):\n",
    "        \"\"\" Load a motormap XML file. \"\"\"\n",
    "        \n",
    "        import ics.cobraOps.CobrasCalibrationProduct as cobraCalib\n",
    "        import ics.cobraOps.MotorMapGroup as cobraMotorMap\n",
    "        reload(cobraCalib)\n",
    "        reload(cobraMotorMap)\n",
    "\n",
    "\n",
    "        if filename is None:\n",
    "            filename = \"/Users/cloomis/Sumire/PFS/git/ics_cobraOps/python/ics/cobraOps/usedXMLFile.xml\"\n",
    "        \n",
    "        self.calibModel = cobraCalib.CobrasCalibrationProduct(filename)\n",
    "        self.motorMap = cobraMotorMap.MotorMapGroup(self.calibModel.nCobras)\n",
    "        \n",
    "        self.motorMap.useCalibrationProduct(self.calibModel)\n",
    "        \n",
    "    def _freqToPeriod(self, freq):\n",
    "        \"\"\" Convert frequency to 60ns ticks \"\"\"        \n",
    "        return int(round(16e3/freq))\n",
    "\n",
    "    def _periodToFreq(self, freq):\n",
    "        \"\"\" Convert 60ns ticks to a frequency \"\"\"\n",
    "        return  (16e3 / per) if (per>=1) else 0\n",
    "\n",
    "    def _mapCobraIndex(self, cobra):\n",
    "        \"\"\" Convert our module + cobra to global cobra index for the calibration product. \"\"\"\n",
    "        \n",
    "        return ((cobra.module - 1)*self.nCobrasPerModule + cobra.cobraNum-1)\n",
    "    \n",
    "    def reset(self, sectors=0x3f):\n",
    "        err = func.RST(sectors)\n",
    "        \n",
    "    def powerCycle(self, sectors=0x3f):\n",
    "        err = func.POW(sectors)\n",
    "\n",
    "    def setFreq(self, cobras):\n",
    "        for c in cobras:\n",
    "            cobraIdx = self._mapCobraIndex(c)\n",
    "            thetaPer = self._freqToPeriod(self.calibModel.motorFreq1[cobraIdx]/1000)\n",
    "            phiPer = self._freqToPeriod(self.calibModel.motorFreq2[cobraIdx]/1000)\n",
    "\n",
    "            # print(f'set {c.board},{c.cobra} to {thetaPer},{phiPer} {self.calibModel.motorFreq1[c.cobra]}')\n",
    "            c.p = func.SetParams(p0=thetaPer, p1=phiPer, en=(True, True))\n",
    "        err = func.SET(cobras)\n",
    "        \n",
    "    def moveAllThetaPhi(self, cobras, thetaMove, phiMove, phiHome='ccw'):\n",
    "        nCobras = self.calibModel.nCobras\n",
    "        \n",
    "        phiHomes = np.zeros(nCobras)\n",
    "        phiMoves = np.zeros(nCobras) + phiMove\n",
    "        thetaMoves = np.zeros(nCobras) + thetaMove\n",
    "\n",
    "        thetaSteps, phiSteps = self.motorMap.calculateSteps(thetaMoves, phiHomes, phiMoves)\n",
    "        \n",
    "        print('thetaSteps: ', thetaSteps)\n",
    "        print('phiSteps: ', phiSteps)\n",
    "\n",
    "        stepMoves = list(zip(thetaSteps.tolist(), phiSteps.tolist()))\n",
    "        \n",
    "        cIdx = [self._mapCobraIndex(c) for c in cobras]\n",
    "        cSteps = [stepMoves[i] for i in cIdx]\n",
    "        \n",
    "        self.moveSteps(cobras, cSteps, [('cw', 'cw')]*len(cIdx))\n",
    "    \n",
    "    def moveAllSteps(self, cobras, steps, dirs):\n",
    "        allSteps = [steps]*len(cobras)\n",
    "        allDirs = [dirs]*len(cobras)\n",
    "        \n",
    "        self.moveSteps(cobras, allSteps, allDirs)\n",
    "        \n",
    "    def moveSteps(self, cobras, steps, dirs, waitTimes=None):\n",
    "        \n",
    "        if len(cobras) != len(steps):\n",
    "            raise RuntimeError(\"number of steps must match number of cobras\")\n",
    "        if len(cobras) != len(dirs):\n",
    "            raise RuntimeError(\"number of directions must match number of cobras\")\n",
    "        if waitTimes is not None and len(cobras) != len(waitTimes):\n",
    "            raise RuntimeError(\"number of waitTimes must match number of cobras\")\n",
    "            \n",
    "        model = self.calibModel\n",
    "        \n",
    "        for c_i, c in enumerate(cobras):\n",
    "            steps1 = int(steps[c_i][0]), int(steps[c_i][1])\n",
    "            dirs1 = dirs[c_i]\n",
    "            en = (steps1[0] != 0, steps1[1] != 0)\n",
    "            cobraId = self._mapCobraIndex(c)\n",
    "            \n",
    "            if dirs1[0] == 'cw':\n",
    "                ontime1 = model.motorOntimeFwd1[cobraId]\n",
    "                offtime1 = model.motorOfftimeFwd1[cobraId]\n",
    "            elif dirs1[0] == 'ccw':\n",
    "                ontime1 = model.motorOntimeRev1[cobraId]\n",
    "                offtime1 = model.motorOfftimeRev1[cobraId]\n",
    "            else:\n",
    "                raise ValueError(f'invalid direction: {dirs1[0]}')\n",
    "                \n",
    "            if dirs1[1] == 'cw':\n",
    "                ontime2 = model.motorOntimeFwd2[cobraId]\n",
    "                offtime2 = model.motorOfftimeFwd2[cobraId]\n",
    "            elif dirs1[1] == 'ccw':\n",
    "                ontime2 = model.motorOntimeRev2[cobraId]\n",
    "                offtime2 = model.motorOfftimeRev2[cobraId]\n",
    "            else:\n",
    "                raise ValueError(f'invalid direction: {dirs1[1]}')\n",
    "                \n",
    "            # For early-late offsets.\n",
    "            if waitTimes is not None:\n",
    "                offtime1 = waitTimes[c_i][0]\n",
    "                offtime2 = waitTimes[c_i][1]\n",
    "            else:\n",
    "                offtime1 = offtime2 = 0\n",
    "                \n",
    "            c.p = func.RunParams(pu=(int(1000*ontime1), int(1000*ontime2)),\n",
    "                                 st=(steps1),\n",
    "                                 sl=(int(1000*offtime1), int(1000*offtime2)),\n",
    "                                 en=en,\n",
    "                                 dir=dirs1)\n",
    "        err = func.RUN(cobras)\n",
    "        \n",
    "    def homePhi(self, cobras, nsteps=3000, dir='ccw'):\n",
    "        steps = [(0,nsteps)]*len(cobras)\n",
    "        dirs = [(dir,dir)]*len(cobras)\n",
    "        self.moveSteps(cobras, steps, dirs)\n",
    "    \n",
    "    def homeTheta(self, cobras, nsteps=6000, dir='ccw'):\n",
    "        steps = [(nsteps,0)]*len(cobras)\n",
    "        dirs = [(dir,dir)]*len(cobras)\n",
    "        pfi.moveSteps(cobras, steps, dirs)\n",
    "        \n",
    "    def cobraBySerial(self, serial):\n",
    "        \"\"\" Find a cobra from its serial number. \"\"\"\n",
    "        idx = np.where(self.calibModel.serialIds == serial)\n",
    "        if len(idx) == 0:\n",
    "            return None\n",
    "        return func.Cobra(self.calibModel.moduleIds[idx],\n",
    "                          self.calibModel.positionerIds[idx])\n",
    "        \n",
    "    @classmethod\n",
    "    def allocateAllCobras(cls):\n",
    "        return allocateCobraRange(range(1,cls.nModules))\n",
    "\n",
    "    @classmethod\n",
    "    def allocateCobraRange(cls, modules, cobraNums=None):\n",
    "        \"\"\" Utility to allocate swaths of cobras:\n",
    "    \n",
    "        Args:\n",
    "          modules (int array-like): a list of 1-indexed boards to allocate from.\n",
    "          cobras  (int array-like): a list of 1-indexed cobras to allocate from.\n",
    "\n",
    "        Return:\n",
    "          cobras\n",
    "        \"\"\"\n",
    "        cobras = []\n",
    "    \n",
    "        if np.isscalar(modules):\n",
    "            modules = [modules]\n",
    "        for m in modules:\n",
    "            if m == 0:\n",
    "                raise IndexError('module numbers are 1-indexed, grrr.')\n",
    "            if cobraNums is None:\n",
    "                _cobraNums = range(1,cls.nCobrasPerModule+1)\n",
    "            else:\n",
    "                _cobraNums = cobraNums\n",
    "            \n",
    "            for c in _cobraNums:\n",
    "                if c == 0:\n",
    "                    raise IndexError('cobra numbers are 1-indexed, grrr.')\n",
    "\n",
    "                cobras.append(func.Cobra(m, c))\n",
    "        \n",
    "        return cobras\n",
    "\n",
    "    @classmethod\n",
    "    def allocateCobraList(cls, cobraIds):\n",
    "        cobras = []\n",
    "        for mc in cobraIds:\n",
    "            m, c = mc\n",
    "            if m == 0:\n",
    "                raise IndexError('module numbers are 1-indexed, grrr.')\n",
    "            if c == 0:\n",
    "                raise IndexError('cobra numbers are 1-indexed, grrr.')\n",
    "\n",
    "            cobras.append(func.Cobra(m, c))\n",
    "        \n",
    "        return cobras\n",
    "\n",
    "    def homePhi(self, cobras, nsteps=3000, dir='ccw'):\n",
    "        steps = [(0,nsteps)]*len(cobras)\n",
    "        dirs = [(dir,dir)]*len(cobras)\n",
    "        self.moveSteps(cobras, steps, dirs)\n",
    "    \n",
    "    def homeTheta(self, cobras, nsteps=6000, dir='ccw'):\n",
    "        steps = [(nsteps,0)]*len(cobras)\n",
    "        dirs = [(dir,dir)]*len(cobras)\n",
    "        pfi.moveSteps(cobras, steps, dirs)"
   ]
  },
  {
   "cell_type": "code",
   "execution_count": 121,
   "metadata": {
    "ExecuteTime": {
     "end_time": "2018-05-18T06:59:19.296571Z",
     "start_time": "2018-05-18T06:59:19.291676Z"
    }
   },
   "outputs": [],
   "source": [
    "# allCobras = PFI.allocateCobraRange(range(1,43))\n",
    "mod1Cobras = PFI.allocateCobraRange(range(1,2))\n",
    "allCobras = mod1Cobras\n",
    "oneCobra = PFI.allocateCobraList([(1,30)])    \n",
    "\n",
    "moduleCobras = {}\n",
    "for group in 1,2,3:\n",
    "    cm = list(range(group,58,3))\n",
    "    mod = list([1]*len(cm))\n",
    "    \n",
    "    moduleCobras[group] = PFI.allocateCobraList(list(zip(mod,cm)))\n",
    "group1Cobras = moduleCobras[1]\n",
    "group2Cobras = moduleCobras[2]\n",
    "group3Cobras = moduleCobras[3]"
   ]
  },
  {
   "cell_type": "code",
   "execution_count": 122,
   "metadata": {
    "ExecuteTime": {
     "end_time": "2018-05-18T06:59:19.637889Z",
     "start_time": "2018-05-18T06:59:19.635408Z"
    }
   },
   "outputs": [],
   "source": [
    "cobras = group3Cobras\n",
    "# cobras = PFI.allocateCobraList([(1,40)])"
   ]
  },
  {
   "cell_type": "code",
   "execution_count": 133,
   "metadata": {
    "ExecuteTime": {
     "end_time": "2018-05-18T07:02:03.923491Z",
     "start_time": "2018-05-18T07:02:03.919778Z"
    }
   },
   "outputs": [
    {
     "name": "stdout",
     "output_type": "stream",
     "text": [
      "['1,1', '1,2', '1,3', '1,4', '1,5', '1,6', '1,7', '1,8', '1,9', '1,10', '1,11', '1,12', '1,13', '1,14', '1,15', '1,16', '1,17', '1,18', '1,19', '1,20', '1,21', '1,22', '1,23', '1,24', '1,25', '1,26', '1,27', '1,28', '1,29', '1,30', '1,31', '1,32', '1,33', '1,34', '1,35', '1,36', '1,37', '1,38', '1,39', '1,40', '1,41', '1,42', '1,43', '1,44', '1,45', '1,46', '1,47', '1,48', '1,49', '1,50', '1,51', '1,52', '1,53', '1,54', '1,55', '1,56', '1,57']\n"
     ]
    }
   ],
   "source": [
    "print([f\"{c.module},{c.cobraNum}\" for c in allCobras])"
   ]
  },
  {
   "cell_type": "code",
   "execution_count": 186,
   "metadata": {
    "ExecuteTime": {
     "end_time": "2018-05-18T07:22:28.279837Z",
     "start_time": "2018-05-18T07:22:28.214293Z"
    }
   },
   "outputs": [],
   "source": [
    "pfi = PFI(fpgaHost='fpga')\n",
    "pfi.setFreq(allCobras)"
   ]
  },
  {
   "cell_type": "code",
   "execution_count": 187,
   "metadata": {
    "ExecuteTime": {
     "end_time": "2018-05-18T07:22:42.918066Z",
     "start_time": "2018-05-18T07:22:31.028477Z"
    }
   },
   "outputs": [],
   "source": [
    "for cobraGroup in moduleCobras.values():\n",
    "    pfi.homeTheta(cobraGroup, dir='ccw')"
   ]
  },
  {
   "cell_type": "code",
   "execution_count": 188,
   "metadata": {
    "ExecuteTime": {
     "end_time": "2018-05-18T07:22:57.797216Z",
     "start_time": "2018-05-18T07:22:45.973879Z"
    }
   },
   "outputs": [
    {
     "name": "stdout",
     "output_type": "stream",
     "text": [
      "thetaSteps:  [ 3841.65426635  4529.34149189  2788.09604353  2934.93913279  1596.85032826\n",
      "  3717.67417599  3435.33316828  3164.5456394   3867.03365859  3038.54171353\n",
      "  3794.26874936  3138.06907218  2136.23255246  2498.64383634  3693.37044956\n",
      "  2490.6753835   1610.37843444  3340.22686369  3057.66906186  1890.00600453\n",
      "  2299.50494443  3184.42502527  2828.79031518  3908.3678931   5241.41592006\n",
      "  6855.90337167  2651.33481586  2903.35468956  1516.51723331  3084.28124482\n",
      "  2248.19773112  3804.87573417  2375.65705775  2620.62296195  4705.80503487\n",
      "  2329.71819593  2906.51352392  2620.62424153  3490.94590567  3946.80032855\n",
      "  3952.36541923  9800.55023031  3027.05967889  1434.67575495  3773.20365867\n",
      "  3023.48645433  3159.19067932  3404.48412768  2861.40102733  2174.4175754\n",
      "  4950.2578749   2487.7198847   2861.88377829  3927.12962785  2452.71558735\n",
      "  3336.86992897  2346.43951791]\n",
      "phiSteps:  [ 0.  0.  0.  0.  0.  0.  0.  0.  0.  0.  0.  0.  0.  0.  0.  0.  0.  0.\n",
      "  0.  0.  0.  0.  0.  0.  0.  0.  0.  0.  0.  0.  0.  0.  0.  0.  0.  0.\n",
      "  0.  0.  0.  0.  0.  0.  0.  0.  0.  0.  0.  0.  0.  0.  0.  0.  0.  0.\n",
      "  0.  0.  0.]\n",
      "thetaSteps:  [ 3841.65426635  4529.34149189  2788.09604353  2934.93913279  1596.85032826\n",
      "  3717.67417599  3435.33316828  3164.5456394   3867.03365859  3038.54171353\n",
      "  3794.26874936  3138.06907218  2136.23255246  2498.64383634  3693.37044956\n",
      "  2490.6753835   1610.37843444  3340.22686369  3057.66906186  1890.00600453\n",
      "  2299.50494443  3184.42502527  2828.79031518  3908.3678931   5241.41592006\n",
      "  6855.90337167  2651.33481586  2903.35468956  1516.51723331  3084.28124482\n",
      "  2248.19773112  3804.87573417  2375.65705775  2620.62296195  4705.80503487\n",
      "  2329.71819593  2906.51352392  2620.62424153  3490.94590567  3946.80032855\n",
      "  3952.36541923  9800.55023031  3027.05967889  1434.67575495  3773.20365867\n",
      "  3023.48645433  3159.19067932  3404.48412768  2861.40102733  2174.4175754\n",
      "  4950.2578749   2487.7198847   2861.88377829  3927.12962785  2452.71558735\n",
      "  3336.86992897  2346.43951791]\n",
      "phiSteps:  [ 0.  0.  0.  0.  0.  0.  0.  0.  0.  0.  0.  0.  0.  0.  0.  0.  0.  0.\n",
      "  0.  0.  0.  0.  0.  0.  0.  0.  0.  0.  0.  0.  0.  0.  0.  0.  0.  0.\n",
      "  0.  0.  0.  0.  0.  0.  0.  0.  0.  0.  0.  0.  0.  0.  0.  0.  0.  0.\n",
      "  0.  0.  0.]\n",
      "thetaSteps:  [ 3841.65426635  4529.34149189  2788.09604353  2934.93913279  1596.85032826\n",
      "  3717.67417599  3435.33316828  3164.5456394   3867.03365859  3038.54171353\n",
      "  3794.26874936  3138.06907218  2136.23255246  2498.64383634  3693.37044956\n",
      "  2490.6753835   1610.37843444  3340.22686369  3057.66906186  1890.00600453\n",
      "  2299.50494443  3184.42502527  2828.79031518  3908.3678931   5241.41592006\n",
      "  6855.90337167  2651.33481586  2903.35468956  1516.51723331  3084.28124482\n",
      "  2248.19773112  3804.87573417  2375.65705775  2620.62296195  4705.80503487\n",
      "  2329.71819593  2906.51352392  2620.62424153  3490.94590567  3946.80032855\n",
      "  3952.36541923  9800.55023031  3027.05967889  1434.67575495  3773.20365867\n",
      "  3023.48645433  3159.19067932  3404.48412768  2861.40102733  2174.4175754\n",
      "  4950.2578749   2487.7198847   2861.88377829  3927.12962785  2452.71558735\n",
      "  3336.86992897  2346.43951791]\n",
      "phiSteps:  [ 0.  0.  0.  0.  0.  0.  0.  0.  0.  0.  0.  0.  0.  0.  0.  0.  0.  0.\n",
      "  0.  0.  0.  0.  0.  0.  0.  0.  0.  0.  0.  0.  0.  0.  0.  0.  0.  0.\n",
      "  0.  0.  0.  0.  0.  0.  0.  0.  0.  0.  0.  0.  0.  0.  0.  0.  0.  0.\n",
      "  0.  0.  0.]\n"
     ]
    }
   ],
   "source": [
    "def deg2rad(deg):\n",
    "    return np.pi * deg/180.0\n",
    "\n",
    "for cobraGroup in moduleCobras.values():\n",
    "    pfi.moveAllThetaPhi(cobraGroup, deg2rad(180), 0.0)\n"
   ]
  },
  {
   "cell_type": "code",
   "execution_count": 179,
   "metadata": {
    "ExecuteTime": {
     "end_time": "2018-05-18T07:18:26.200079Z",
     "start_time": "2018-05-18T07:18:26.197279Z"
    }
   },
   "outputs": [],
   "source": [
    "c1 = [pfi.cobraBySerial(2358)]"
   ]
  },
  {
   "cell_type": "code",
   "execution_count": 132,
   "metadata": {
    "ExecuteTime": {
     "end_time": "2018-05-18T07:01:52.909844Z",
     "start_time": "2018-05-18T07:01:50.208175Z"
    }
   },
   "outputs": [],
   "source": [
    "pfi.homeTheta(cobras, dir='ccw')"
   ]
  },
  {
   "cell_type": "code",
   "execution_count": 165,
   "metadata": {
    "ExecuteTime": {
     "end_time": "2018-05-18T07:04:56.254550Z",
     "start_time": "2018-05-18T07:04:55.497817Z"
    }
   },
   "outputs": [],
   "source": [
    "pfi.moveAllSteps(allCobras, (1000,0), dirs=('cw','ccw'))"
   ]
  },
  {
   "cell_type": "code",
   "execution_count": null,
   "metadata": {
    "collapsed": true
   },
   "outputs": [],
   "source": []
  },
  {
   "cell_type": "code",
   "execution_count": 76,
   "metadata": {
    "ExecuteTime": {
     "end_time": "2018-05-18T05:38:07.441269Z",
     "start_time": "2018-05-18T05:38:07.438161Z"
    }
   },
   "outputs": [],
   "source": [
    "pfi.powerCycle()"
   ]
  },
  {
   "cell_type": "code",
   "execution_count": 12,
   "metadata": {
    "ExecuteTime": {
     "end_time": "2018-05-18T01:45:04.925453Z",
     "start_time": "2018-05-18T01:45:04.916173Z"
    }
   },
   "outputs": [
    {
     "name": "stdout",
     "output_type": "stream",
     "text": [
      "[ 63241.  63241.  63745.  63492.  63241.  63492.  62500.  63492.  64000.\n",
      "  63492.  62992.  63241.  62992.  63492.  64000.  63492.  63492.  62992.\n",
      "  63241.  64000.  63745.  62992.  63492.  64000.  63241.  62500.  63241.\n",
      "  63241.  63492.  63492.  63745.  63745.  63745.  63241.  63241.  64000.\n",
      "  62745.  64000.  62745.  62992.  63492.  62500.  63241.  62256.  64000.\n",
      "  63492.  64000.  62992.  63492.  64516.  64000.  64257.  64516.  63745.\n",
      "  64000.  64777.  63492.] [ 108108.  104575.  103896.  104575.  105263.  105960.  105960.  105263.\n",
      "  104575.  105960.  107382.  105263.  105960.  105263.  105960.  103896.\n",
      "  105263.  106666.  105263.  105960.  105960.  104575.  104575.  105263.\n",
      "  105960.  106666.  104575.  108108.  105960.  105263.  108843.  106666.\n",
      "  105263.  105263.  106666.  105263.  105960.  105263.  104575.  106666.\n",
      "  105960.  105263.  105960.  104575.  105960.  105263.  105960.  105263.\n",
      "  106666.  106666.  105960.  105960.  104575.  104575.  103896.  107382.\n",
      "  103896.]\n",
      "[ 0.04572   0.035657  0.045208  0.034212  0.056261  0.035246  0.038806\n",
      "  0.04052   0.036665  0.043863  0.034893  0.038601  0.045718  0.040192\n",
      "  0.032984  0.044884  0.060648  0.030677  0.045     0.043477  0.044371\n",
      "  0.039775  0.025281  0.037573  0.026814  0.029857  0.037316  0.033515\n",
      "  0.055     0.036066  0.042911  0.030178  0.05      0.030303  0.033397\n",
      "  0.035871  0.029873  0.035119  0.031576  0.03845   0.028927  0.029009\n",
      "  0.032161  0.04      0.040494  0.0284    0.039198  0.033038  0.048\n",
      "  0.038619  0.032169  0.043978  0.033958  0.037041  0.042403  0.042559\n",
      "  0.040381] [ 0.036611  0.021366  0.021555  0.019963  0.038833  0.026347  0.02714\n",
      "  0.03098   0.021781  0.028458  0.031342  0.033744  0.031139  0.023686\n",
      "  0.036875  0.037611  0.038595  0.03      0.02802   0.021953  0.035\n",
      "  0.021292  0.038168  0.029417  0.028308  0.04      0.022151  0.0277\n",
      "  0.022297  0.02113   0.030902  0.026341  0.03      0.018485  0.028437\n",
      "  0.017803  0.027939  0.019489  0.034225  0.03      0.020884  0.02599\n",
      "  0.027661  0.02114   0.032926  0.02      0.029638  0.022913  0.03\n",
      "  0.018576  0.019898  0.02      0.02899   0.025337  0.026295  0.022561\n",
      "  0.026991]\n"
     ]
    }
   ],
   "source": [
    "print(pfi.calibModel.motorFreq1, pfi.calibModel.motorFreq2)\n",
    "print(pfi.calibModel.motorOntimeFwd1, pfi.calibModel.motorOntimeFwd2)"
   ]
  },
  {
   "cell_type": "code",
   "execution_count": 13,
   "metadata": {
    "ExecuteTime": {
     "end_time": "2018-05-18T01:45:12.794755Z",
     "start_time": "2018-05-18T01:45:12.669141Z"
    }
   },
   "outputs": [
    {
     "ename": "NameError",
     "evalue": "name 'sec_rst' is not defined",
     "output_type": "error",
     "traceback": [
      "\u001b[0;31m---------------------------------------------------------------------------\u001b[0m",
      "\u001b[0;31mNameError\u001b[0m                                 Traceback (most recent call last)",
      "\u001b[0;32m<ipython-input-13-cd6456247727>\u001b[0m in \u001b[0;36m<module>\u001b[0;34m()\u001b[0m\n\u001b[0;32m----> 1\u001b[0;31m \u001b[0mpfi\u001b[0m\u001b[0;34m.\u001b[0m\u001b[0mreset\u001b[0m\u001b[0;34m(\u001b[0m\u001b[0;34m)\u001b[0m\u001b[0;34m\u001b[0m\u001b[0m\n\u001b[0m",
      "\u001b[0;32m<ipython-input-9-f953c3b895c5>\u001b[0m in \u001b[0;36mreset\u001b[0;34m(self, sectors)\u001b[0m\n\u001b[1;32m     53\u001b[0m \u001b[0;34m\u001b[0m\u001b[0m\n\u001b[1;32m     54\u001b[0m     \u001b[0;32mdef\u001b[0m \u001b[0mreset\u001b[0m\u001b[0;34m(\u001b[0m\u001b[0mself\u001b[0m\u001b[0;34m,\u001b[0m \u001b[0msectors\u001b[0m\u001b[0;34m=\u001b[0m\u001b[0;36m0x3f\u001b[0m\u001b[0;34m)\u001b[0m\u001b[0;34m:\u001b[0m\u001b[0;34m\u001b[0m\u001b[0m\n\u001b[0;32m---> 55\u001b[0;31m         \u001b[0merr\u001b[0m \u001b[0;34m=\u001b[0m \u001b[0mfunc\u001b[0m\u001b[0;34m.\u001b[0m\u001b[0mRST\u001b[0m\u001b[0;34m(\u001b[0m\u001b[0msectors\u001b[0m\u001b[0;34m)\u001b[0m\u001b[0;34m\u001b[0m\u001b[0m\n\u001b[0m\u001b[1;32m     56\u001b[0m \u001b[0;34m\u001b[0m\u001b[0m\n\u001b[1;32m     57\u001b[0m     \u001b[0;32mdef\u001b[0m \u001b[0mpowerCycle\u001b[0m\u001b[0;34m(\u001b[0m\u001b[0mself\u001b[0m\u001b[0;34m,\u001b[0m \u001b[0msectors\u001b[0m\u001b[0;34m=\u001b[0m\u001b[0;36m0x3f\u001b[0m\u001b[0;34m)\u001b[0m\u001b[0;34m:\u001b[0m\u001b[0;34m\u001b[0m\u001b[0m\n",
      "\u001b[0;32m~/Sumire/PFS/git/ics_cobraControl/python/ics/cobraControl/func.py\u001b[0m in \u001b[0;36mRST\u001b[0;34m(sectors)\u001b[0m\n\u001b[1;32m    267\u001b[0m     \u001b[0mmedium_log\u001b[0m\u001b[0;34m.\u001b[0m\u001b[0mlog\u001b[0m\u001b[0;34m(\u001b[0m\u001b[0;34m\"Sectors Reseting: %s\"\u001b[0m \u001b[0;34m%\u001b[0m\u001b[0msectors_reseting\u001b[0m\u001b[0;34m)\u001b[0m\u001b[0;34m\u001b[0m\u001b[0m\n\u001b[1;32m    268\u001b[0m \u001b[0;34m\u001b[0m\u001b[0m\n\u001b[0;32m--> 269\u001b[0;31m     \u001b[0mcmd\u001b[0m \u001b[0;34m=\u001b[0m \u001b[0mCMD_pow\u001b[0m\u001b[0;34m(\u001b[0m\u001b[0;36m255\u001b[0m\u001b[0;34m,\u001b[0m \u001b[0msec_rst\u001b[0m\u001b[0;34m)\u001b[0m\u001b[0;34m\u001b[0m\u001b[0m\n\u001b[0m\u001b[1;32m    270\u001b[0m     \u001b[0msock\u001b[0m\u001b[0;34m.\u001b[0m\u001b[0msend\u001b[0m\u001b[0;34m(\u001b[0m\u001b[0mcmd\u001b[0m\u001b[0;34m,\u001b[0m \u001b[0meth_hex_logger\u001b[0m\u001b[0;34m,\u001b[0m \u001b[0;34m'h'\u001b[0m\u001b[0;34m)\u001b[0m\u001b[0;34m\u001b[0m\u001b[0m\n\u001b[1;32m    271\u001b[0m     \u001b[0mresp\u001b[0m \u001b[0;34m=\u001b[0m \u001b[0msock\u001b[0m\u001b[0;34m.\u001b[0m\u001b[0mrecv\u001b[0m\u001b[0;34m(\u001b[0m\u001b[0mTLM_LEN\u001b[0m\u001b[0;34m,\u001b[0m \u001b[0meth_hex_logger\u001b[0m\u001b[0;34m,\u001b[0m \u001b[0;34m'h'\u001b[0m\u001b[0;34m)\u001b[0m\u001b[0;34m\u001b[0m\u001b[0m\n",
      "\u001b[0;31mNameError\u001b[0m: name 'sec_rst' is not defined"
     ]
    }
   ],
   "source": [
    "pfi.reset()"
   ]
  },
  {
   "cell_type": "code",
   "execution_count": null,
   "metadata": {
    "collapsed": true
   },
   "outputs": [],
   "source": []
  }
 ],
 "metadata": {
  "kernelspec": {
   "display_name": "Python 3",
   "language": "python",
   "name": "python3"
  },
  "language_info": {
   "codemirror_mode": {
    "name": "ipython",
    "version": 3
   },
   "file_extension": ".py",
   "mimetype": "text/x-python",
   "name": "python",
   "nbconvert_exporter": "python",
   "pygments_lexer": "ipython3",
   "version": "3.6.3"
  },
  "toc": {
   "nav_menu": {},
   "number_sections": true,
   "sideBar": true,
   "skip_h1_title": false,
   "title_cell": "Table of Contents",
   "title_sidebar": "Contents",
   "toc_cell": false,
   "toc_position": {},
   "toc_section_display": true,
   "toc_window_display": false
  }
 },
 "nbformat": 4,
 "nbformat_minor": 2
}
